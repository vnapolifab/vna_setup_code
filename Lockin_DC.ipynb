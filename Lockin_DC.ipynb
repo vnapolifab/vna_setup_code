{
 "cells": [
  {
   "cell_type": "code",
   "execution_count": 1,
   "metadata": {},
   "outputs": [],
   "source": [
    "from library_analysis import *\n",
    "from library_power_supply import *\n",
    "from library_misc import *\n",
    "from library_vna import *\n",
    "from library_file_management import *\n",
    "import CONSTANTS as c\n",
    "from datetime import datetime\n",
    "\n",
    "from logger import logger\n",
    "from library_analysis import *\n",
    "from library_gui import *\n",
    "from library_vna import *\n",
    "from library_power_supply import *\n",
    "from CONSTANTS import *\n",
    "from measurement_routine import measurement_routine"
   ]
  },
  {
   "cell_type": "code",
   "execution_count": 2,
   "metadata": {},
   "outputs": [],
   "source": [
    "import zhinst.utils\n",
    "from zhinst.toolkit import Session"
   ]
  },
  {
   "cell_type": "code",
   "execution_count": 3,
   "metadata": {},
   "outputs": [
    {
     "name": "stdout",
     "output_type": "stream",
     "text": [
      "*** LOG SCREEN ***\n",
      "Power supply 1 > Power supply connected on port COM4\n",
      "Power supply 2 > WARNING: Could not connect to power supply on COM3, if this is not expected check if it is turned on or try resetting the notebook\n",
      "VNA            > VNA connected correctly via GPIB\n",
      "*** LOG SCREEN ***\n"
     ]
    },
    {
     "name": "stderr",
     "output_type": "stream",
     "text": [
      "INFO: Setting field...\n",
      "INFO: Field set to 80.0 mT\n",
      "INFO: Waiting 0.25s...\n",
      "INFO: Settling time over\n",
      "INFO: Measuring...\n"
     ]
    },
    {
     "name": "stdout",
     "output_type": "stream",
     "text": [
      "'1,Ch1'\n",
      "'1,Tr1,2,Tr2,3,Tr3,4,Tr4'\n"
     ]
    },
    {
     "name": "stderr",
     "output_type": "stream",
     "text": [
      "INFO: Finished measuring\n",
      "\n",
      "INFO: Saving data...\n",
      "INFO: Saved file \"TOP_0V_S11.csv\"\n",
      "INFO: Saving data...\n",
      "INFO: Saved file \"TOP_0V_S41.csv\"\n",
      "INFO: Saving data...\n",
      "INFO: Saved file \"TOP_0V_S14.csv\"\n",
      "INFO: Saving data...\n",
      "INFO: Saved file \"TOP_0V_S44.csv\"\n",
      "INFO: Setting field...\n"
     ]
    },
    {
     "name": "stdout",
     "output_type": "stream",
     "text": [
      "\n",
      "\n",
      "\n"
     ]
    },
    {
     "name": "stderr",
     "output_type": "stream",
     "text": [
      "INFO: Field set to 40.0 mT\n",
      "INFO: Waiting 0.25s...\n",
      "INFO: Settling time over\n",
      "INFO: Measuring...\n"
     ]
    },
    {
     "name": "stdout",
     "output_type": "stream",
     "text": [
      "'1,Ch1'\n",
      "'1,Tr1,2,Tr2,3,Tr3,4,Tr4'\n"
     ]
    },
    {
     "name": "stderr",
     "output_type": "stream",
     "text": [
      "INFO: Finished measuring\n",
      "\n",
      "INFO: Saving data...\n"
     ]
    },
    {
     "name": "stdout",
     "output_type": "stream",
     "text": [
      "\n",
      "\n"
     ]
    },
    {
     "name": "stderr",
     "output_type": "stream",
     "text": [
      "INFO: Saved file \"TOP_0V_S11.csv\"\n",
      "INFO: Saving data...\n"
     ]
    },
    {
     "name": "stdout",
     "output_type": "stream",
     "text": [
      "\n",
      "\n"
     ]
    },
    {
     "name": "stderr",
     "output_type": "stream",
     "text": [
      "INFO: Saved file \"TOP_0V_S41.csv\"\n",
      "INFO: Saving data...\n"
     ]
    },
    {
     "name": "stdout",
     "output_type": "stream",
     "text": [
      "\n",
      "\n"
     ]
    },
    {
     "name": "stderr",
     "output_type": "stream",
     "text": [
      "INFO: Saved file \"TOP_0V_S14.csv\"\n",
      "INFO: Saving data...\n"
     ]
    },
    {
     "name": "stdout",
     "output_type": "stream",
     "text": [
      "\n",
      "\n"
     ]
    },
    {
     "name": "stderr",
     "output_type": "stream",
     "text": [
      "INFO: Saved file \"TOP_0V_S44.csv\"\n",
      "INFO: Setting field...\n"
     ]
    },
    {
     "name": "stdout",
     "output_type": "stream",
     "text": [
      "\n",
      "\n",
      "\n"
     ]
    },
    {
     "name": "stderr",
     "output_type": "stream",
     "text": [
      "INFO: Field set to 0.0 mT\n",
      "INFO: Waiting 0.25s...\n",
      "INFO: Settling time over\n",
      "INFO: Measuring...\n"
     ]
    },
    {
     "name": "stdout",
     "output_type": "stream",
     "text": [
      "'1,Ch1'\n",
      "'1,Tr1,2,Tr2,3,Tr3,4,Tr4'\n"
     ]
    },
    {
     "name": "stderr",
     "output_type": "stream",
     "text": [
      "INFO: Finished measuring\n",
      "\n",
      "INFO: Saving data...\n"
     ]
    },
    {
     "name": "stdout",
     "output_type": "stream",
     "text": [
      "\n",
      "\n"
     ]
    },
    {
     "name": "stderr",
     "output_type": "stream",
     "text": [
      "INFO: Saved file \"TOP_0V_S11.csv\"\n",
      "INFO: Saving data...\n"
     ]
    },
    {
     "name": "stdout",
     "output_type": "stream",
     "text": [
      "\n",
      "\n"
     ]
    },
    {
     "name": "stderr",
     "output_type": "stream",
     "text": [
      "INFO: Saved file \"TOP_0V_S41.csv\"\n",
      "INFO: Saving data...\n"
     ]
    },
    {
     "name": "stdout",
     "output_type": "stream",
     "text": [
      "\n",
      "\n"
     ]
    },
    {
     "name": "stderr",
     "output_type": "stream",
     "text": [
      "INFO: Saved file \"TOP_0V_S14.csv\"\n",
      "INFO: Saving data...\n"
     ]
    },
    {
     "name": "stdout",
     "output_type": "stream",
     "text": [
      "\n",
      "\n"
     ]
    },
    {
     "name": "stderr",
     "output_type": "stream",
     "text": [
      "INFO: Saved file \"TOP_0V_S44.csv\"\n"
     ]
    },
    {
     "name": "stdout",
     "output_type": "stream",
     "text": [
      "\n",
      "\n",
      "\n"
     ]
    },
    {
     "name": "stderr",
     "output_type": "stream",
     "text": [
      "INFO: Setting field...\n"
     ]
    },
    {
     "name": "stdout",
     "output_type": "stream",
     "text": [
      "*** LOG SCREEN ***\n"
     ]
    },
    {
     "name": "stderr",
     "output_type": "stream",
     "text": [
      "INFO: Field set to 80.0 mT\n",
      "INFO: Waiting 0.25s...\n",
      "INFO: Settling time over\n",
      "INFO: Measuring...\n"
     ]
    },
    {
     "name": "stdout",
     "output_type": "stream",
     "text": [
      "'1,Ch1'\n",
      "'5,Tr1,6,Tr2,7,Tr3,8,Tr4'\n"
     ]
    },
    {
     "name": "stderr",
     "output_type": "stream",
     "text": [
      "INFO: Finished measuring\n",
      "\n",
      "INFO: Saving data...\n",
      "INFO: Saved file \"TOP_-1.52V_S11.csv\"\n",
      "INFO: Saving data...\n",
      "INFO: Saved file \"TOP_-1.52V_S41.csv\"\n",
      "INFO: Saving data...\n",
      "INFO: Saved file \"TOP_-1.52V_S14.csv\"\n",
      "INFO: Saving data...\n",
      "INFO: Saved file \"TOP_-1.52V_S44.csv\"\n",
      "INFO: Setting field...\n"
     ]
    },
    {
     "name": "stdout",
     "output_type": "stream",
     "text": [
      "\n",
      "\n",
      "\n"
     ]
    },
    {
     "name": "stderr",
     "output_type": "stream",
     "text": [
      "INFO: Field set to 40.0 mT\n",
      "INFO: Waiting 0.25s...\n",
      "INFO: Settling time over\n",
      "INFO: Measuring...\n"
     ]
    },
    {
     "name": "stdout",
     "output_type": "stream",
     "text": [
      "'1,Ch1'\n",
      "'1,Tr1,2,Tr2,3,Tr3,4,Tr4'\n"
     ]
    },
    {
     "name": "stderr",
     "output_type": "stream",
     "text": [
      "INFO: Finished measuring\n",
      "\n",
      "INFO: Saving data...\n"
     ]
    },
    {
     "name": "stdout",
     "output_type": "stream",
     "text": [
      "\n",
      "\n"
     ]
    },
    {
     "name": "stderr",
     "output_type": "stream",
     "text": [
      "INFO: Saved file \"TOP_-1.52V_S11.csv\"\n",
      "INFO: Saving data...\n"
     ]
    },
    {
     "name": "stdout",
     "output_type": "stream",
     "text": [
      "\n",
      "\n"
     ]
    },
    {
     "name": "stderr",
     "output_type": "stream",
     "text": [
      "INFO: Saved file \"TOP_-1.52V_S41.csv\"\n",
      "INFO: Saving data...\n"
     ]
    },
    {
     "name": "stdout",
     "output_type": "stream",
     "text": [
      "\n",
      "\n"
     ]
    },
    {
     "name": "stderr",
     "output_type": "stream",
     "text": [
      "INFO: Saved file \"TOP_-1.52V_S14.csv\"\n",
      "INFO: Saving data...\n"
     ]
    },
    {
     "name": "stdout",
     "output_type": "stream",
     "text": [
      "\n",
      "\n"
     ]
    },
    {
     "name": "stderr",
     "output_type": "stream",
     "text": [
      "INFO: Saved file \"TOP_-1.52V_S44.csv\"\n",
      "INFO: Setting field...\n"
     ]
    },
    {
     "name": "stdout",
     "output_type": "stream",
     "text": [
      "\n",
      "\n",
      "\n"
     ]
    },
    {
     "name": "stderr",
     "output_type": "stream",
     "text": [
      "INFO: Field set to 0.0 mT\n",
      "INFO: Waiting 0.25s...\n",
      "INFO: Settling time over\n",
      "INFO: Measuring...\n"
     ]
    },
    {
     "name": "stdout",
     "output_type": "stream",
     "text": [
      "'1,Ch1'\n",
      "'1,Tr1,2,Tr2,3,Tr3,4,Tr4'\n"
     ]
    },
    {
     "name": "stderr",
     "output_type": "stream",
     "text": [
      "INFO: Finished measuring\n",
      "\n",
      "INFO: Saving data...\n"
     ]
    },
    {
     "name": "stdout",
     "output_type": "stream",
     "text": [
      "\n",
      "\n"
     ]
    },
    {
     "name": "stderr",
     "output_type": "stream",
     "text": [
      "INFO: Saved file \"TOP_-1.52V_S11.csv\"\n",
      "INFO: Saving data...\n"
     ]
    },
    {
     "name": "stdout",
     "output_type": "stream",
     "text": [
      "\n",
      "\n"
     ]
    },
    {
     "name": "stderr",
     "output_type": "stream",
     "text": [
      "INFO: Saved file \"TOP_-1.52V_S41.csv\"\n",
      "INFO: Saving data...\n"
     ]
    },
    {
     "name": "stdout",
     "output_type": "stream",
     "text": [
      "\n",
      "\n"
     ]
    },
    {
     "name": "stderr",
     "output_type": "stream",
     "text": [
      "INFO: Saved file \"TOP_-1.52V_S14.csv\"\n",
      "INFO: Saving data...\n"
     ]
    },
    {
     "name": "stdout",
     "output_type": "stream",
     "text": [
      "\n",
      "\n"
     ]
    },
    {
     "name": "stderr",
     "output_type": "stream",
     "text": [
      "INFO: Saved file \"TOP_-1.52V_S44.csv\"\n"
     ]
    },
    {
     "name": "stdout",
     "output_type": "stream",
     "text": [
      "\n",
      "\n",
      "\n"
     ]
    },
    {
     "name": "stderr",
     "output_type": "stream",
     "text": [
      "INFO: Setting field...\n"
     ]
    },
    {
     "name": "stdout",
     "output_type": "stream",
     "text": [
      "*** LOG SCREEN ***\n"
     ]
    },
    {
     "name": "stderr",
     "output_type": "stream",
     "text": [
      "INFO: Field set to 80.0 mT\n",
      "INFO: Waiting 0.25s...\n",
      "INFO: Settling time over\n",
      "INFO: Measuring...\n"
     ]
    },
    {
     "name": "stdout",
     "output_type": "stream",
     "text": [
      "'1,Ch1'\n",
      "'5,Tr1,6,Tr2,7,Tr3,8,Tr4'\n"
     ]
    },
    {
     "name": "stderr",
     "output_type": "stream",
     "text": [
      "INFO: Finished measuring\n",
      "\n",
      "INFO: Saving data...\n",
      "INFO: Saved file \"TOP_-4.13V_S11.csv\"\n",
      "INFO: Saving data...\n",
      "INFO: Saved file \"TOP_-4.13V_S41.csv\"\n",
      "INFO: Saving data...\n",
      "INFO: Saved file \"TOP_-4.13V_S14.csv\"\n",
      "INFO: Saving data...\n",
      "INFO: Saved file \"TOP_-4.13V_S44.csv\"\n",
      "INFO: Setting field...\n"
     ]
    },
    {
     "name": "stdout",
     "output_type": "stream",
     "text": [
      "\n",
      "\n",
      "\n"
     ]
    },
    {
     "name": "stderr",
     "output_type": "stream",
     "text": [
      "INFO: Field set to 40.0 mT\n",
      "INFO: Waiting 0.25s...\n",
      "INFO: Settling time over\n",
      "INFO: Measuring...\n"
     ]
    },
    {
     "name": "stdout",
     "output_type": "stream",
     "text": [
      "'1,Ch1'\n",
      "'1,Tr1,2,Tr2,3,Tr3,4,Tr4'\n"
     ]
    },
    {
     "name": "stderr",
     "output_type": "stream",
     "text": [
      "INFO: Finished measuring\n",
      "\n",
      "INFO: Saving data...\n"
     ]
    },
    {
     "name": "stdout",
     "output_type": "stream",
     "text": [
      "\n",
      "\n"
     ]
    },
    {
     "name": "stderr",
     "output_type": "stream",
     "text": [
      "INFO: Saved file \"TOP_-4.13V_S11.csv\"\n",
      "INFO: Saving data...\n"
     ]
    },
    {
     "name": "stdout",
     "output_type": "stream",
     "text": [
      "\n",
      "\n"
     ]
    },
    {
     "name": "stderr",
     "output_type": "stream",
     "text": [
      "INFO: Saved file \"TOP_-4.13V_S41.csv\"\n",
      "INFO: Saving data...\n"
     ]
    },
    {
     "name": "stdout",
     "output_type": "stream",
     "text": [
      "\n",
      "\n"
     ]
    },
    {
     "name": "stderr",
     "output_type": "stream",
     "text": [
      "INFO: Saved file \"TOP_-4.13V_S14.csv\"\n",
      "INFO: Saving data...\n"
     ]
    },
    {
     "name": "stdout",
     "output_type": "stream",
     "text": [
      "\n",
      "\n"
     ]
    },
    {
     "name": "stderr",
     "output_type": "stream",
     "text": [
      "INFO: Saved file \"TOP_-4.13V_S44.csv\"\n",
      "INFO: Setting field...\n"
     ]
    },
    {
     "name": "stdout",
     "output_type": "stream",
     "text": [
      "\n",
      "\n",
      "\n"
     ]
    },
    {
     "name": "stderr",
     "output_type": "stream",
     "text": [
      "INFO: Field set to 0.0 mT\n",
      "INFO: Waiting 0.25s...\n",
      "INFO: Settling time over\n",
      "INFO: Measuring...\n"
     ]
    },
    {
     "name": "stdout",
     "output_type": "stream",
     "text": [
      "'1,Ch1'\n",
      "'1,Tr1,2,Tr2,3,Tr3,4,Tr4'\n"
     ]
    },
    {
     "name": "stderr",
     "output_type": "stream",
     "text": [
      "INFO: Finished measuring\n",
      "\n",
      "INFO: Saving data...\n"
     ]
    },
    {
     "name": "stdout",
     "output_type": "stream",
     "text": [
      "\n",
      "\n"
     ]
    },
    {
     "name": "stderr",
     "output_type": "stream",
     "text": [
      "INFO: Saved file \"TOP_-4.13V_S11.csv\"\n",
      "INFO: Saving data...\n"
     ]
    },
    {
     "name": "stdout",
     "output_type": "stream",
     "text": [
      "\n",
      "\n"
     ]
    },
    {
     "name": "stderr",
     "output_type": "stream",
     "text": [
      "INFO: Saved file \"TOP_-4.13V_S41.csv\"\n",
      "INFO: Saving data...\n"
     ]
    },
    {
     "name": "stdout",
     "output_type": "stream",
     "text": [
      "\n",
      "\n"
     ]
    },
    {
     "name": "stderr",
     "output_type": "stream",
     "text": [
      "INFO: Saved file \"TOP_-4.13V_S14.csv\"\n",
      "INFO: Saving data...\n"
     ]
    },
    {
     "name": "stdout",
     "output_type": "stream",
     "text": [
      "\n",
      "\n"
     ]
    },
    {
     "name": "stderr",
     "output_type": "stream",
     "text": [
      "INFO: Saved file \"TOP_-4.13V_S44.csv\"\n"
     ]
    },
    {
     "name": "stdout",
     "output_type": "stream",
     "text": [
      "\n",
      "\n",
      "\n"
     ]
    },
    {
     "name": "stderr",
     "output_type": "stream",
     "text": [
      "INFO: Setting field...\n"
     ]
    },
    {
     "name": "stdout",
     "output_type": "stream",
     "text": [
      "*** LOG SCREEN ***\n"
     ]
    },
    {
     "name": "stderr",
     "output_type": "stream",
     "text": [
      "INFO: Field set to 80.0 mT\n",
      "INFO: Waiting 0.25s...\n",
      "INFO: Settling time over\n",
      "INFO: Measuring...\n"
     ]
    },
    {
     "name": "stdout",
     "output_type": "stream",
     "text": [
      "'1,Ch1'\n",
      "'5,Tr1,6,Tr2,7,Tr3,8,Tr4'\n"
     ]
    },
    {
     "name": "stderr",
     "output_type": "stream",
     "text": [
      "INFO: Finished measuring\n",
      "\n",
      "INFO: Saving data...\n",
      "INFO: Saved file \"TOP_-5.92V_S11.csv\"\n",
      "INFO: Saving data...\n",
      "INFO: Saved file \"TOP_-5.92V_S41.csv\"\n",
      "INFO: Saving data...\n",
      "INFO: Saved file \"TOP_-5.92V_S14.csv\"\n",
      "INFO: Saving data...\n",
      "INFO: Saved file \"TOP_-5.92V_S44.csv\"\n",
      "INFO: Setting field...\n"
     ]
    },
    {
     "name": "stdout",
     "output_type": "stream",
     "text": [
      "\n",
      "\n",
      "\n"
     ]
    },
    {
     "name": "stderr",
     "output_type": "stream",
     "text": [
      "INFO: Field set to 40.0 mT\n",
      "INFO: Waiting 0.25s...\n",
      "INFO: Settling time over\n",
      "INFO: Measuring...\n"
     ]
    },
    {
     "name": "stdout",
     "output_type": "stream",
     "text": [
      "'1,Ch1'\n",
      "'1,Tr1,2,Tr2,3,Tr3,4,Tr4'\n"
     ]
    },
    {
     "name": "stderr",
     "output_type": "stream",
     "text": [
      "INFO: Finished measuring\n",
      "\n",
      "INFO: Saving data...\n"
     ]
    },
    {
     "name": "stdout",
     "output_type": "stream",
     "text": [
      "\n",
      "\n"
     ]
    },
    {
     "name": "stderr",
     "output_type": "stream",
     "text": [
      "INFO: Saved file \"TOP_-5.92V_S11.csv\"\n",
      "INFO: Saving data...\n"
     ]
    },
    {
     "name": "stdout",
     "output_type": "stream",
     "text": [
      "\n",
      "\n"
     ]
    },
    {
     "name": "stderr",
     "output_type": "stream",
     "text": [
      "INFO: Saved file \"TOP_-5.92V_S41.csv\"\n",
      "INFO: Saving data...\n"
     ]
    },
    {
     "name": "stdout",
     "output_type": "stream",
     "text": [
      "\n",
      "\n"
     ]
    },
    {
     "name": "stderr",
     "output_type": "stream",
     "text": [
      "INFO: Saved file \"TOP_-5.92V_S14.csv\"\n",
      "INFO: Saving data...\n"
     ]
    },
    {
     "name": "stdout",
     "output_type": "stream",
     "text": [
      "\n",
      "\n"
     ]
    },
    {
     "name": "stderr",
     "output_type": "stream",
     "text": [
      "INFO: Saved file \"TOP_-5.92V_S44.csv\"\n",
      "INFO: Setting field...\n"
     ]
    },
    {
     "name": "stdout",
     "output_type": "stream",
     "text": [
      "\n",
      "\n",
      "\n"
     ]
    },
    {
     "name": "stderr",
     "output_type": "stream",
     "text": [
      "INFO: Field set to 0.0 mT\n",
      "INFO: Waiting 0.25s...\n",
      "INFO: Settling time over\n",
      "INFO: Measuring...\n"
     ]
    },
    {
     "name": "stdout",
     "output_type": "stream",
     "text": [
      "'1,Ch1'\n",
      "'1,Tr1,2,Tr2,3,Tr3,4,Tr4'\n"
     ]
    },
    {
     "name": "stderr",
     "output_type": "stream",
     "text": [
      "INFO: Finished measuring\n",
      "\n",
      "INFO: Saving data...\n"
     ]
    },
    {
     "name": "stdout",
     "output_type": "stream",
     "text": [
      "\n",
      "\n"
     ]
    },
    {
     "name": "stderr",
     "output_type": "stream",
     "text": [
      "INFO: Saved file \"TOP_-5.92V_S11.csv\"\n",
      "INFO: Saving data...\n"
     ]
    },
    {
     "name": "stdout",
     "output_type": "stream",
     "text": [
      "\n",
      "\n"
     ]
    },
    {
     "name": "stderr",
     "output_type": "stream",
     "text": [
      "INFO: Saved file \"TOP_-5.92V_S41.csv\"\n",
      "INFO: Saving data...\n"
     ]
    },
    {
     "name": "stdout",
     "output_type": "stream",
     "text": [
      "\n",
      "\n"
     ]
    },
    {
     "name": "stderr",
     "output_type": "stream",
     "text": [
      "INFO: Saved file \"TOP_-5.92V_S14.csv\"\n",
      "INFO: Saving data...\n"
     ]
    },
    {
     "name": "stdout",
     "output_type": "stream",
     "text": [
      "\n",
      "\n"
     ]
    },
    {
     "name": "stderr",
     "output_type": "stream",
     "text": [
      "INFO: Saved file \"TOP_-5.92V_S44.csv\"\n"
     ]
    },
    {
     "name": "stdout",
     "output_type": "stream",
     "text": [
      "\n",
      "\n",
      "\n"
     ]
    },
    {
     "name": "stderr",
     "output_type": "stream",
     "text": [
      "INFO: Setting field...\n"
     ]
    },
    {
     "name": "stdout",
     "output_type": "stream",
     "text": [
      "*** LOG SCREEN ***\n"
     ]
    },
    {
     "name": "stderr",
     "output_type": "stream",
     "text": [
      "INFO: Field set to 80.0 mT\n",
      "INFO: Waiting 0.25s...\n",
      "INFO: Settling time over\n",
      "INFO: Measuring...\n"
     ]
    },
    {
     "name": "stdout",
     "output_type": "stream",
     "text": [
      "'1,Ch1'\n",
      "'5,Tr1,6,Tr2,7,Tr3,8,Tr4'\n"
     ]
    },
    {
     "name": "stderr",
     "output_type": "stream",
     "text": [
      "INFO: Finished measuring\n",
      "\n",
      "INFO: Saving data...\n",
      "INFO: Saved file \"TOP_-7.37V_S11.csv\"\n",
      "INFO: Saving data...\n",
      "INFO: Saved file \"TOP_-7.37V_S41.csv\"\n",
      "INFO: Saving data...\n",
      "INFO: Saved file \"TOP_-7.37V_S14.csv\"\n",
      "INFO: Saving data...\n",
      "INFO: Saved file \"TOP_-7.37V_S44.csv\"\n",
      "INFO: Setting field...\n"
     ]
    },
    {
     "name": "stdout",
     "output_type": "stream",
     "text": [
      "\n",
      "\n",
      "\n"
     ]
    },
    {
     "name": "stderr",
     "output_type": "stream",
     "text": [
      "INFO: Field set to 40.0 mT\n",
      "INFO: Waiting 0.25s...\n",
      "INFO: Settling time over\n",
      "INFO: Measuring...\n"
     ]
    },
    {
     "name": "stdout",
     "output_type": "stream",
     "text": [
      "'1,Ch1'\n",
      "'1,Tr1,2,Tr2,3,Tr3,4,Tr4'\n"
     ]
    },
    {
     "name": "stderr",
     "output_type": "stream",
     "text": [
      "INFO: Finished measuring\n",
      "\n",
      "INFO: Saving data...\n"
     ]
    },
    {
     "name": "stdout",
     "output_type": "stream",
     "text": [
      "\n",
      "\n"
     ]
    },
    {
     "name": "stderr",
     "output_type": "stream",
     "text": [
      "INFO: Saved file \"TOP_-7.37V_S11.csv\"\n",
      "INFO: Saving data...\n"
     ]
    },
    {
     "name": "stdout",
     "output_type": "stream",
     "text": [
      "\n",
      "\n"
     ]
    },
    {
     "name": "stderr",
     "output_type": "stream",
     "text": [
      "INFO: Saved file \"TOP_-7.37V_S41.csv\"\n",
      "INFO: Saving data...\n"
     ]
    },
    {
     "name": "stdout",
     "output_type": "stream",
     "text": [
      "\n",
      "\n"
     ]
    },
    {
     "name": "stderr",
     "output_type": "stream",
     "text": [
      "INFO: Saved file \"TOP_-7.37V_S14.csv\"\n",
      "INFO: Saving data...\n"
     ]
    },
    {
     "name": "stdout",
     "output_type": "stream",
     "text": [
      "\n",
      "\n"
     ]
    },
    {
     "name": "stderr",
     "output_type": "stream",
     "text": [
      "INFO: Saved file \"TOP_-7.37V_S44.csv\"\n",
      "INFO: Setting field...\n"
     ]
    },
    {
     "name": "stdout",
     "output_type": "stream",
     "text": [
      "\n",
      "\n",
      "\n"
     ]
    },
    {
     "name": "stderr",
     "output_type": "stream",
     "text": [
      "INFO: Field set to 0.0 mT\n",
      "INFO: Waiting 0.25s...\n",
      "INFO: Settling time over\n",
      "INFO: Measuring...\n"
     ]
    },
    {
     "name": "stdout",
     "output_type": "stream",
     "text": [
      "'1,Ch1'\n",
      "'1,Tr1,2,Tr2,3,Tr3,4,Tr4'\n"
     ]
    },
    {
     "name": "stderr",
     "output_type": "stream",
     "text": [
      "INFO: Finished measuring\n",
      "\n",
      "INFO: Saving data...\n"
     ]
    },
    {
     "name": "stdout",
     "output_type": "stream",
     "text": [
      "\n",
      "\n"
     ]
    },
    {
     "name": "stderr",
     "output_type": "stream",
     "text": [
      "INFO: Saved file \"TOP_-7.37V_S11.csv\"\n",
      "INFO: Saving data...\n"
     ]
    },
    {
     "name": "stdout",
     "output_type": "stream",
     "text": [
      "\n",
      "\n"
     ]
    },
    {
     "name": "stderr",
     "output_type": "stream",
     "text": [
      "INFO: Saved file \"TOP_-7.37V_S41.csv\"\n",
      "INFO: Saving data...\n"
     ]
    },
    {
     "name": "stdout",
     "output_type": "stream",
     "text": [
      "\n",
      "\n"
     ]
    },
    {
     "name": "stderr",
     "output_type": "stream",
     "text": [
      "INFO: Saved file \"TOP_-7.37V_S14.csv\"\n",
      "INFO: Saving data...\n"
     ]
    },
    {
     "name": "stdout",
     "output_type": "stream",
     "text": [
      "\n",
      "\n"
     ]
    },
    {
     "name": "stderr",
     "output_type": "stream",
     "text": [
      "INFO: Saved file \"TOP_-7.37V_S44.csv\"\n"
     ]
    },
    {
     "name": "stdout",
     "output_type": "stream",
     "text": [
      "\n",
      "\n",
      "\n"
     ]
    },
    {
     "name": "stderr",
     "output_type": "stream",
     "text": [
      "INFO: Setting field...\n"
     ]
    },
    {
     "name": "stdout",
     "output_type": "stream",
     "text": [
      "*** LOG SCREEN ***\n"
     ]
    },
    {
     "name": "stderr",
     "output_type": "stream",
     "text": [
      "INFO: Field set to 80.0 mT\n",
      "INFO: Waiting 0.25s...\n",
      "INFO: Settling time over\n",
      "INFO: Measuring...\n"
     ]
    },
    {
     "name": "stdout",
     "output_type": "stream",
     "text": [
      "'1,Ch1'\n",
      "'5,Tr1,6,Tr2,7,Tr3,8,Tr4'\n"
     ]
    },
    {
     "name": "stderr",
     "output_type": "stream",
     "text": [
      "INFO: Finished measuring\n",
      "\n",
      "INFO: Saving data...\n",
      "INFO: Saved file \"TOP_-8.62V_S11.csv\"\n",
      "INFO: Saving data...\n",
      "INFO: Saved file \"TOP_-8.62V_S41.csv\"\n",
      "INFO: Saving data...\n",
      "INFO: Saved file \"TOP_-8.62V_S14.csv\"\n",
      "INFO: Saving data...\n",
      "INFO: Saved file \"TOP_-8.62V_S44.csv\"\n",
      "INFO: Setting field...\n"
     ]
    },
    {
     "name": "stdout",
     "output_type": "stream",
     "text": [
      "\n",
      "\n",
      "\n"
     ]
    },
    {
     "name": "stderr",
     "output_type": "stream",
     "text": [
      "INFO: Field set to 40.0 mT\n",
      "INFO: Waiting 0.25s...\n",
      "INFO: Settling time over\n",
      "INFO: Measuring...\n"
     ]
    },
    {
     "name": "stdout",
     "output_type": "stream",
     "text": [
      "'1,Ch1'\n",
      "'1,Tr1,2,Tr2,3,Tr3,4,Tr4'\n"
     ]
    },
    {
     "name": "stderr",
     "output_type": "stream",
     "text": [
      "INFO: Finished measuring\n",
      "\n",
      "INFO: Saving data...\n"
     ]
    },
    {
     "name": "stdout",
     "output_type": "stream",
     "text": [
      "\n",
      "\n"
     ]
    },
    {
     "name": "stderr",
     "output_type": "stream",
     "text": [
      "INFO: Saved file \"TOP_-8.62V_S11.csv\"\n",
      "INFO: Saving data...\n"
     ]
    },
    {
     "name": "stdout",
     "output_type": "stream",
     "text": [
      "\n",
      "\n"
     ]
    },
    {
     "name": "stderr",
     "output_type": "stream",
     "text": [
      "INFO: Saved file \"TOP_-8.62V_S41.csv\"\n",
      "INFO: Saving data...\n"
     ]
    },
    {
     "name": "stdout",
     "output_type": "stream",
     "text": [
      "\n",
      "\n"
     ]
    },
    {
     "name": "stderr",
     "output_type": "stream",
     "text": [
      "INFO: Saved file \"TOP_-8.62V_S14.csv\"\n",
      "INFO: Saving data...\n"
     ]
    },
    {
     "name": "stdout",
     "output_type": "stream",
     "text": [
      "\n",
      "\n"
     ]
    },
    {
     "name": "stderr",
     "output_type": "stream",
     "text": [
      "INFO: Saved file \"TOP_-8.62V_S44.csv\"\n",
      "INFO: Setting field...\n"
     ]
    },
    {
     "name": "stdout",
     "output_type": "stream",
     "text": [
      "\n",
      "\n",
      "\n"
     ]
    },
    {
     "name": "stderr",
     "output_type": "stream",
     "text": [
      "INFO: Field set to 0.0 mT\n",
      "INFO: Waiting 0.25s...\n",
      "INFO: Settling time over\n",
      "INFO: Measuring...\n"
     ]
    },
    {
     "name": "stdout",
     "output_type": "stream",
     "text": [
      "'1,Ch1'\n",
      "'1,Tr1,2,Tr2,3,Tr3,4,Tr4'\n"
     ]
    },
    {
     "name": "stderr",
     "output_type": "stream",
     "text": [
      "INFO: Finished measuring\n",
      "\n",
      "INFO: Saving data...\n"
     ]
    },
    {
     "name": "stdout",
     "output_type": "stream",
     "text": [
      "\n",
      "\n"
     ]
    },
    {
     "name": "stderr",
     "output_type": "stream",
     "text": [
      "INFO: Saved file \"TOP_-8.62V_S11.csv\"\n",
      "INFO: Saving data...\n"
     ]
    },
    {
     "name": "stdout",
     "output_type": "stream",
     "text": [
      "\n",
      "\n"
     ]
    },
    {
     "name": "stderr",
     "output_type": "stream",
     "text": [
      "INFO: Saved file \"TOP_-8.62V_S41.csv\"\n",
      "INFO: Saving data...\n"
     ]
    },
    {
     "name": "stdout",
     "output_type": "stream",
     "text": [
      "\n",
      "\n"
     ]
    },
    {
     "name": "stderr",
     "output_type": "stream",
     "text": [
      "INFO: Saved file \"TOP_-8.62V_S14.csv\"\n",
      "INFO: Saving data...\n"
     ]
    },
    {
     "name": "stdout",
     "output_type": "stream",
     "text": [
      "\n",
      "\n"
     ]
    },
    {
     "name": "stderr",
     "output_type": "stream",
     "text": [
      "INFO: Saved file \"TOP_-8.62V_S44.csv\"\n"
     ]
    },
    {
     "name": "stdout",
     "output_type": "stream",
     "text": [
      "\n",
      "\n",
      "\n"
     ]
    },
    {
     "name": "stderr",
     "output_type": "stream",
     "text": [
      "INFO: Setting field...\n"
     ]
    },
    {
     "name": "stdout",
     "output_type": "stream",
     "text": [
      "*** LOG SCREEN ***\n"
     ]
    },
    {
     "name": "stderr",
     "output_type": "stream",
     "text": [
      "INFO: Field set to 80.0 mT\n",
      "INFO: Waiting 0.25s...\n",
      "INFO: Settling time over\n",
      "INFO: Measuring...\n"
     ]
    },
    {
     "name": "stdout",
     "output_type": "stream",
     "text": [
      "'1,Ch1'\n",
      "'5,Tr1,6,Tr2,7,Tr3,8,Tr4'\n"
     ]
    },
    {
     "name": "stderr",
     "output_type": "stream",
     "text": [
      "INFO: Finished measuring\n",
      "\n",
      "INFO: Saving data...\n",
      "INFO: Saved file \"TOP_-9.73V_S11.csv\"\n",
      "INFO: Saving data...\n",
      "INFO: Saved file \"TOP_-9.73V_S41.csv\"\n",
      "INFO: Saving data...\n",
      "INFO: Saved file \"TOP_-9.73V_S14.csv\"\n",
      "INFO: Saving data...\n",
      "INFO: Saved file \"TOP_-9.73V_S44.csv\"\n",
      "INFO: Setting field...\n"
     ]
    },
    {
     "name": "stdout",
     "output_type": "stream",
     "text": [
      "\n",
      "\n",
      "\n"
     ]
    },
    {
     "name": "stderr",
     "output_type": "stream",
     "text": [
      "INFO: Field set to 40.0 mT\n",
      "INFO: Waiting 0.25s...\n",
      "INFO: Settling time over\n",
      "INFO: Measuring...\n"
     ]
    },
    {
     "name": "stdout",
     "output_type": "stream",
     "text": [
      "'1,Ch1'\n",
      "'1,Tr1,2,Tr2,3,Tr3,4,Tr4'\n"
     ]
    },
    {
     "name": "stderr",
     "output_type": "stream",
     "text": [
      "INFO: Finished measuring\n",
      "\n",
      "INFO: Saving data...\n"
     ]
    },
    {
     "name": "stdout",
     "output_type": "stream",
     "text": [
      "\n",
      "\n"
     ]
    },
    {
     "name": "stderr",
     "output_type": "stream",
     "text": [
      "INFO: Saved file \"TOP_-9.73V_S11.csv\"\n",
      "INFO: Saving data...\n"
     ]
    },
    {
     "name": "stdout",
     "output_type": "stream",
     "text": [
      "\n",
      "\n"
     ]
    },
    {
     "name": "stderr",
     "output_type": "stream",
     "text": [
      "INFO: Saved file \"TOP_-9.73V_S41.csv\"\n",
      "INFO: Saving data...\n"
     ]
    },
    {
     "name": "stdout",
     "output_type": "stream",
     "text": [
      "\n",
      "\n"
     ]
    },
    {
     "name": "stderr",
     "output_type": "stream",
     "text": [
      "INFO: Saved file \"TOP_-9.73V_S14.csv\"\n",
      "INFO: Saving data...\n"
     ]
    },
    {
     "name": "stdout",
     "output_type": "stream",
     "text": [
      "\n",
      "\n"
     ]
    },
    {
     "name": "stderr",
     "output_type": "stream",
     "text": [
      "INFO: Saved file \"TOP_-9.73V_S44.csv\"\n",
      "INFO: Setting field...\n"
     ]
    },
    {
     "name": "stdout",
     "output_type": "stream",
     "text": [
      "\n",
      "\n",
      "\n"
     ]
    },
    {
     "name": "stderr",
     "output_type": "stream",
     "text": [
      "INFO: Field set to 0.0 mT\n",
      "INFO: Waiting 0.25s...\n",
      "INFO: Settling time over\n",
      "INFO: Measuring...\n"
     ]
    },
    {
     "name": "stdout",
     "output_type": "stream",
     "text": [
      "'1,Ch1'\n",
      "'1,Tr1,2,Tr2,3,Tr3,4,Tr4'\n"
     ]
    },
    {
     "name": "stderr",
     "output_type": "stream",
     "text": [
      "INFO: Finished measuring\n",
      "\n",
      "INFO: Saving data...\n"
     ]
    },
    {
     "name": "stdout",
     "output_type": "stream",
     "text": [
      "\n",
      "\n"
     ]
    },
    {
     "name": "stderr",
     "output_type": "stream",
     "text": [
      "INFO: Saved file \"TOP_-9.73V_S11.csv\"\n",
      "INFO: Saving data...\n"
     ]
    },
    {
     "name": "stdout",
     "output_type": "stream",
     "text": [
      "\n",
      "\n"
     ]
    },
    {
     "name": "stderr",
     "output_type": "stream",
     "text": [
      "INFO: Saved file \"TOP_-9.73V_S41.csv\"\n",
      "INFO: Saving data...\n"
     ]
    },
    {
     "name": "stdout",
     "output_type": "stream",
     "text": [
      "\n",
      "\n"
     ]
    },
    {
     "name": "stderr",
     "output_type": "stream",
     "text": [
      "INFO: Saved file \"TOP_-9.73V_S14.csv\"\n",
      "INFO: Saving data...\n"
     ]
    },
    {
     "name": "stdout",
     "output_type": "stream",
     "text": [
      "\n",
      "\n"
     ]
    },
    {
     "name": "stderr",
     "output_type": "stream",
     "text": [
      "INFO: Saved file \"TOP_-9.73V_S44.csv\"\n"
     ]
    },
    {
     "name": "stdout",
     "output_type": "stream",
     "text": [
      "\n",
      "\n",
      "\n"
     ]
    }
   ],
   "source": [
    "settings={}\n",
    "\n",
    "session=Session('localhost',hf2=True)\n",
    "device=session.connect_device('dev1808')\n",
    "session.sync()\n",
    "\n",
    "\n",
    "print(\"*** LOG SCREEN ***\")\n",
    "\n",
    "if settings == None:\n",
    "    raise Exception(\"The GUI was closed manually\")\n",
    "\n",
    "# Adds date time to measurement info\n",
    "settings[\"datetime\"] = str(datetime.now()).rstrip(\"0123456789\").rstrip(\".\")\n",
    "\n",
    "\n",
    "print(\"Power supply 1 > \", end=\"\"); \n",
    "ps1 = setupConnectionPS('COM4', 9600)\n",
    "\n",
    "print(\"Power supply 2 > \", end=\"\"); \n",
    "ps2 = setupConnectionPS('COM3', 9600)\n",
    "\n",
    "print(\"VNA            > \", end=\"\"); \n",
    "instr = setupConnectionVNA()\n",
    "\n",
    "\n",
    "for indicemariahapaura in [0,-1.52,-4.13,-5.92,-7.37,-8.62,-9.73]:#in np.arange(0,-10.25,-0.25):\n",
    "\n",
    "    device.auxouts[1].offset(indicemariahapaura)\n",
    "\n",
    "    print(\"*** LOG SCREEN ***\")\n",
    "    if settings == None:\n",
    "        raise Exception(\"The GUI was closed manually\")\n",
    "\n",
    "    # Adds date time to measurement info\n",
    "    settings[\"datetime\"] = str(datetime.now()).rstrip(\"0123456789\").rstrip(\".\")\n",
    "\n",
    "\n",
    "    settings[\"ref_field\"]=80\n",
    "    settings[\"field_sweep\"]=[40,0]\n",
    "\n",
    "    settings[\"field_sweep\"] = list(np.concatenate([[float(settings[\"ref_field\"])], settings[\"field_sweep\"]]))\n",
    "    settings[\"angle\"]=0\n",
    "    settings[\"user_name\"]='FINIZIOBONDED'\n",
    "    settings[\"sample_name\"]='TOP_REF_sweep_21_10_2024_40mT_80mT'\n",
    "    settings[\"measurement_name\"]='TOP_'+str(indicemariahapaura)+'V'\n",
    "    settings[\"dipole_mode\"]=1\n",
    "    settings[\"s_parameter\"]='S11'\n",
    "    settings[\"avg_factor\"]=1\n",
    "    settings['start_frequency'] =1000000.0\n",
    "    settings['stop_frequency'] =20e9\n",
    "    settings['bandwidth']=500\n",
    "    settings['power']=-10\n",
    "    settings['number_of_points']=20000\n",
    "    settings['cal_name']='MrFini'\n",
    "\n",
    "\n",
    "    applySettings(instr, settings)\n",
    "    save_settings(settings)\n",
    "\n",
    "    measurement_routine(\n",
    "        settings,\n",
    "        ps1, \n",
    "        ps2, \n",
    "        instr, \n",
    "        settings['field_sweep'],\n",
    "        settings['angle'],\n",
    "        settings['user_name'],\n",
    "        settings['sample_name'],\n",
    "        settings['measurement_name'],\n",
    "        settings['dipole_mode'],\n",
    "        settings['s_parameter'],\n",
    "        settings['avg_factor'],\n",
    "        demag=False\n",
    "    )\n",
    "\n",
    "device.auxouts[1].offset(0)\n",
    "\n"
   ]
  }
 ],
 "metadata": {
  "kernelspec": {
   "display_name": "Python 3",
   "language": "python",
   "name": "python3"
  },
  "language_info": {
   "codemirror_mode": {
    "name": "ipython",
    "version": 3
   },
   "file_extension": ".py",
   "mimetype": "text/x-python",
   "name": "python",
   "nbconvert_exporter": "python",
   "pygments_lexer": "ipython3",
   "version": "3.13.2"
  }
 },
 "nbformat": 4,
 "nbformat_minor": 2
}
