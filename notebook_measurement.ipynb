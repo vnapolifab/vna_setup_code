{
 "cells": [
  {
   "cell_type": "code",
   "execution_count": 1,
   "metadata": {},
   "outputs": [],
   "source": [
    "from library_power_supply import *\n",
    "from library_analysis import *\n",
    "from library_vna import *"
   ]
  },
  {
   "cell_type": "markdown",
   "metadata": {},
   "source": [
    "<div style=\"color: red; font-weight: bold; font-size: 24px\"> Modify the following cell with your desired settings: </div>"
   ]
  },
  {
   "cell_type": "code",
   "execution_count": 2,
   "metadata": {},
   "outputs": [],
   "source": [
    "settings = {\n",
    "    \"user\"              : \"Test User\",\n",
    "    \"name\"              : \"CoFeB bello\",\n",
    "\n",
    "    # dipole_mode defines which dipoles you are using:\n",
    "    \"dipole mode\"       : 1,\n",
    "        # 1: Single dipole, flat head (on dipole 1)\n",
    "        # 2: Quadrupole\n",
    "        # 3. Single dipole, round head 1\n",
    "        # 4. Single dipole, round head 2\n",
    "\n",
    "    \"S parameter\"       : \"S14\",    # VNA parameter to be measured\n",
    "\n",
    "    \"field sweep\"       : np.linspace(start=0.1, stop=20, num=25),   # mT, Applied external field (if defined with lispace, num = number of steps)\n",
    "    \"angle\"             : 0,        # Field angle (only for quadruple, ignored otherwise)\n",
    "\n",
    "    # Define frequency range:\n",
    "    \"Start frequency\"   : 1e9,  # Hz\n",
    "    \"Stop frequency\"    : 12e9,  # Hz\n",
    "    \"Number of points\"  : 1001, # Number of frequency points in a signle sweep \n",
    "\n",
    "\n",
    "    \"Bandwith\"          : 300, # Hz,  Inverse of integration time\n",
    "        # lower: reduces noise, longer measuring time\n",
    "        # higher: more noise but shorter measuring time\n",
    "\n",
    "    \"Power\"             : -10   # dBm, VNA RF power \n",
    "}"
   ]
  },
  {
   "cell_type": "markdown",
   "metadata": {},
   "source": [
    "## Code (run only)"
   ]
  },
  {
   "cell_type": "code",
   "execution_count": 2,
   "metadata": {},
   "outputs": [
    {
     "name": "stdout",
     "output_type": "stream",
     "text": [
      "Power supply 1 > Power supply connected on port COM4\n"
     ]
    }
   ],
   "source": [
    "print(\"Power supply 1 > \", end=\"\"); \n",
    "if \"ps1\" in locals(): ps1.closeConnection()\n",
    "ps1 = setupConnectionPS('COM4', 9600)"
   ]
  },
  {
   "cell_type": "code",
   "execution_count": null,
   "metadata": {},
   "outputs": [],
   "source": [
    "ps1.set"
   ]
  },
  {
   "cell_type": "code",
   "execution_count": 2,
   "metadata": {},
   "outputs": [
    {
     "name": "stdout",
     "output_type": "stream",
     "text": [
      "Power supply 1 > WARNING: Could not connect to power supply on COM4, if this is not expected check if it is turned on or try resetting the notebook\n",
      "Power supply 2 > WARNING: Could not connect to power supply on COM3, if this is not expected check if it is turned on or try resetting the notebook\n",
      "VNA            > VNA connected correctly via GPIB\n"
     ]
    }
   ],
   "source": [
    "print(\"Power supply 1 > \", end=\"\"); \n",
    "if \"ps1\" in locals(): ps1.closeConnection()\n",
    "ps1 = setupConnectionPS('COM4', 9600)\n",
    "    \n",
    "print(\"Power supply 2 > \", end=\"\"); \n",
    "if \"ps2\" in locals(): ps2.closeConnection()\n",
    "ps2 = setupConnectionPS('COM3', 9600)\n",
    "\n",
    "print(\"VNA            > \", end=\"\"); \n",
    "instr = setupConnectionVNA()"
   ]
  },
  {
   "cell_type": "code",
   "execution_count": 3,
   "metadata": {},
   "outputs": [],
   "source": [
    "settings = {\n",
    "    \"user_name\": \"MoNiFe\",\n",
    "    \"measurement_name\": \"MoNiFe30min damp\",\n",
    "    \"dipole_mode\": 1,\n",
    "    \"s_parameter\": \"S14\",\n",
    "    \"field_sweep\": [\n",
    "        100.0,\n",
    "        140.0,\n",
    "        150.0,\n",
    "        160.0,\n",
    "        170.0,\n",
    "        180.0,\n",
    "        190.0\n",
    "    ],\n",
    "    \"angle\": 0.0,\n",
    "    \"start_frequency\": 1000000000.0,\n",
    "    \"stop_frequency\": 15000000000.0,\n",
    "    \"number_of_points\": 1401,\n",
    "    \"bandwidth\": 300.0,\n",
    "    \"power\": -10.0,\n",
    "    \"ref_field\": 100.0\n",
    "}"
   ]
  },
  {
   "cell_type": "code",
   "execution_count": 4,
   "metadata": {},
   "outputs": [],
   "source": [
    "applySettings(instr, settings)"
   ]
  },
  {
   "cell_type": "code",
   "execution_count": 5,
   "metadata": {},
   "outputs": [
    {
     "name": "stdout",
     "output_type": "stream",
     "text": [
      "LOG: Adding zero-field for reference... \n",
      "\n",
      "LOG: Executing demagnetizing sweep...\n",
      "LOG: Completed demagnetizing sweep.\n",
      "\n",
      "LOG: Field set to 190.0 mT\n",
      "LOG: Measuring... \n",
      "WARNING: Folder named \"CoFeB bello\" already exists, using \"CoFeB bello 5\" instead\n",
      "LOG: Saved file \"CoFeB bello 5 (0).csv\"\n",
      "LOG: Executing demagnetizing sweep...\n",
      "LOG: Completed demagnetizing sweep.\n",
      "\n",
      "LOG: Field set to 0.1 mT\n",
      "LOG: Measuring... \n",
      "LOG: Saved file \"CoFeB bello 5 (1).csv\"\n",
      "LOG: Field set to 0.9291666666666666 mT\n",
      "LOG: Measuring... \n",
      "LOG: Saved file \"CoFeB bello 5 (2).csv\"\n",
      "LOG: Field set to 1.7583333333333333 mT\n",
      "LOG: Measuring... \n",
      "LOG: Saved file \"CoFeB bello 5 (3).csv\"\n",
      "LOG: Field set to 2.5875 mT\n",
      "LOG: Measuring... \n",
      "LOG: Saved file \"CoFeB bello 5 (4).csv\"\n",
      "LOG: Field set to 3.4166666666666665 mT\n",
      "LOG: Measuring... \n",
      "LOG: Saved file \"CoFeB bello 5 (5).csv\"\n",
      "LOG: Field set to 4.245833333333333 mT\n",
      "LOG: Measuring... \n",
      "LOG: Saved file \"CoFeB bello 5 (6).csv\"\n",
      "LOG: Field set to 5.074999999999999 mT\n",
      "LOG: Measuring... \n",
      "LOG: Saved file \"CoFeB bello 5 (7).csv\"\n",
      "LOG: Field set to 5.904166666666666 mT\n",
      "LOG: Measuring... \n",
      "LOG: Saved file \"CoFeB bello 5 (8).csv\"\n",
      "LOG: Field set to 6.7333333333333325 mT\n",
      "LOG: Measuring... \n",
      "LOG: Saved file \"CoFeB bello 5 (9).csv\"\n",
      "LOG: Field set to 7.562499999999999 mT\n",
      "LOG: Measuring... \n",
      "LOG: Saved file \"CoFeB bello 5 (10).csv\"\n",
      "LOG: Field set to 8.391666666666666 mT\n",
      "LOG: Measuring... \n",
      "LOG: Saved file \"CoFeB bello 5 (11).csv\"\n",
      "LOG: Field set to 9.220833333333333 mT\n",
      "LOG: Measuring... \n",
      "LOG: Saved file \"CoFeB bello 5 (12).csv\"\n",
      "LOG: Field set to 10.049999999999999 mT\n",
      "LOG: Measuring... \n",
      "LOG: Saved file \"CoFeB bello 5 (13).csv\"\n",
      "LOG: Field set to 10.879166666666665 mT\n",
      "LOG: Measuring... \n",
      "LOG: Saved file \"CoFeB bello 5 (14).csv\"\n",
      "LOG: Field set to 11.708333333333332 mT\n",
      "LOG: Measuring... \n",
      "LOG: Saved file \"CoFeB bello 5 (15).csv\"\n",
      "LOG: Field set to 12.5375 mT\n",
      "LOG: Measuring... \n",
      "LOG: Saved file \"CoFeB bello 5 (16).csv\"\n",
      "LOG: Field set to 13.366666666666665 mT\n",
      "LOG: Measuring... \n",
      "LOG: Saved file \"CoFeB bello 5 (17).csv\"\n",
      "LOG: Field set to 14.195833333333331 mT\n",
      "LOG: Measuring... \n",
      "LOG: Saved file \"CoFeB bello 5 (18).csv\"\n",
      "LOG: Field set to 15.024999999999999 mT\n",
      "LOG: Measuring... \n",
      "LOG: Saved file \"CoFeB bello 5 (19).csv\"\n",
      "LOG: Field set to 15.854166666666666 mT\n",
      "LOG: Measuring... \n",
      "LOG: Saved file \"CoFeB bello 5 (20).csv\"\n",
      "LOG: Field set to 16.683333333333334 mT\n",
      "LOG: Measuring... \n",
      "LOG: Saved file \"CoFeB bello 5 (21).csv\"\n",
      "LOG: Field set to 17.5125 mT\n",
      "LOG: Measuring... \n",
      "LOG: Saved file \"CoFeB bello 5 (22).csv\"\n",
      "LOG: Field set to 18.34166666666667 mT\n",
      "LOG: Measuring... \n",
      "LOG: Saved file \"CoFeB bello 5 (23).csv\"\n",
      "LOG: Field set to 19.170833333333334 mT\n",
      "LOG: Measuring... \n",
      "LOG: Saved file \"CoFeB bello 5 (24).csv\"\n",
      "LOG: Field set to 20.0 mT\n",
      "LOG: Measuring... \n",
      "LOG: Saved file \"CoFeB bello 5 (25).csv\"\n"
     ]
    }
   ],
   "source": [
    "measurement_routine(\n",
    "    ps1, \n",
    "    ps2, \n",
    "    instr, \n",
    "    settings[\"field sweep\"], \n",
    "    settings[\"angle\"], \n",
    "    settings[\"user\"],\n",
    "    settings[\"name\"], \n",
    "    settings[\"dipole mode\"], \n",
    "    settings[\"S parameter\"],\n",
    "    settings\n",
    ")"
   ]
  }
 ],
 "metadata": {
  "kernelspec": {
   "display_name": "Python 3",
   "language": "python",
   "name": "python3"
  },
  "language_info": {
   "codemirror_mode": {
    "name": "ipython",
    "version": 3
   },
   "file_extension": ".py",
   "mimetype": "text/x-python",
   "name": "python",
   "nbconvert_exporter": "python",
   "pygments_lexer": "ipython3",
   "version": "3.12.0"
  }
 },
 "nbformat": 4,
 "nbformat_minor": 2
}
