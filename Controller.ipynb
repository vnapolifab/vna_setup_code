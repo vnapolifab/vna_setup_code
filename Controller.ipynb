{
 "cells": [
  {
   "cell_type": "code",
   "execution_count": 1,
   "metadata": {},
   "outputs": [
    {
     "name": "stdout",
     "output_type": "stream",
     "text": [
      "Power supply 1 > Power supply connected on port COM4\n",
      "Power supply 2 > Power supply connected on port COM3\n"
     ]
    }
   ],
   "source": [
    "from library_power_supply import *\n",
    "\n",
    "print(\"Power supply 1 > \", end=\"\"); \n",
    "if \"ps1\" in locals(): ps1.closeConnection()\n",
    "ps1 = setupConnectionPS('COM4', 9600)\n",
    "    \n",
    "print(\"Power supply 2 > \", end=\"\"); \n",
    "if \"ps2\" in locals(): ps2.closeConnection()\n",
    "ps2 = setupConnectionPS('COM3', 9600)"
   ]
  },
  {
   "cell_type": "code",
   "execution_count": 5,
   "metadata": {},
   "outputs": [],
   "source": [
    "ps1.setCurrent(1)\n",
    "ps2.setCurrent(0.938)"
   ]
  }
 ],
 "metadata": {
  "kernelspec": {
   "display_name": "Python 3",
   "language": "python",
   "name": "python3"
  },
  "language_info": {
   "codemirror_mode": {
    "name": "ipython",
    "version": 3
   },
   "file_extension": ".py",
   "mimetype": "text/x-python",
   "name": "python",
   "nbconvert_exporter": "python",
   "pygments_lexer": "ipython3",
   "version": "3.12.0"
  }
 },
 "nbformat": 4,
 "nbformat_minor": 2
}
